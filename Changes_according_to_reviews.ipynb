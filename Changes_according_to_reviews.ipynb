{
  "nbformat": 4,
  "nbformat_minor": 0,
  "metadata": {
    "colab": {
      "provenance": []
    },
    "kernelspec": {
      "name": "python3",
      "display_name": "Python 3"
    },
    "language_info": {
      "name": "python"
    }
  },
  "cells": [
    {
      "cell_type": "code",
      "execution_count": 9,
      "metadata": {
        "colab": {
          "base_uri": "https://localhost:8080/",
          "height": 760
        },
        "id": "xdpGuGyfAhzB",
        "outputId": "24de9924-ff7c-4793-ab97-c403cc764924"
      },
      "outputs": [
        {
          "output_type": "stream",
          "name": "stdout",
          "text": [
            "--- Building and Training Models for Evaluation ---\n",
            "\n",
            "--- MLP Model Architecture ---\n"
          ]
        },
        {
          "output_type": "stream",
          "name": "stderr",
          "text": [
            "/usr/local/lib/python3.12/dist-packages/keras/src/layers/core/input_layer.py:27: UserWarning: Argument `input_shape` is deprecated. Use `shape` instead.\n",
            "  warnings.warn(\n"
          ]
        },
        {
          "output_type": "display_data",
          "data": {
            "text/plain": [
              "\u001b[1mModel: \"Multilayer_Perceptron\"\u001b[0m\n"
            ],
            "text/html": [
              "<pre style=\"white-space:pre;overflow-x:auto;line-height:normal;font-family:Menlo,'DejaVu Sans Mono',consolas,'Courier New',monospace\"><span style=\"font-weight: bold\">Model: \"Multilayer_Perceptron\"</span>\n",
              "</pre>\n"
            ]
          },
          "metadata": {}
        },
        {
          "output_type": "display_data",
          "data": {
            "text/plain": [
              "┏━━━━━━━━━━━━━━━━━━━━━━━━━━━━━━━━━┳━━━━━━━━━━━━━━━━━━━━━━━━┳━━━━━━━━━━━━━━━┓\n",
              "┃\u001b[1m \u001b[0m\u001b[1mLayer (type)                   \u001b[0m\u001b[1m \u001b[0m┃\u001b[1m \u001b[0m\u001b[1mOutput Shape          \u001b[0m\u001b[1m \u001b[0m┃\u001b[1m \u001b[0m\u001b[1m      Param #\u001b[0m\u001b[1m \u001b[0m┃\n",
              "┡━━━━━━━━━━━━━━━━━━━━━━━━━━━━━━━━━╇━━━━━━━━━━━━━━━━━━━━━━━━╇━━━━━━━━━━━━━━━┩\n",
              "│ hidden_layer_1 (\u001b[38;5;33mDense\u001b[0m)          │ (\u001b[38;5;45mNone\u001b[0m, \u001b[38;5;34m64\u001b[0m)             │           \u001b[38;5;34m192\u001b[0m │\n",
              "├─────────────────────────────────┼────────────────────────┼───────────────┤\n",
              "│ hidden_layer_2 (\u001b[38;5;33mDense\u001b[0m)          │ (\u001b[38;5;45mNone\u001b[0m, \u001b[38;5;34m32\u001b[0m)             │         \u001b[38;5;34m2,080\u001b[0m │\n",
              "├─────────────────────────────────┼────────────────────────┼───────────────┤\n",
              "│ output_layer (\u001b[38;5;33mDense\u001b[0m)            │ (\u001b[38;5;45mNone\u001b[0m, \u001b[38;5;34m1\u001b[0m)              │            \u001b[38;5;34m33\u001b[0m │\n",
              "└─────────────────────────────────┴────────────────────────┴───────────────┘\n"
            ],
            "text/html": [
              "<pre style=\"white-space:pre;overflow-x:auto;line-height:normal;font-family:Menlo,'DejaVu Sans Mono',consolas,'Courier New',monospace\">┏━━━━━━━━━━━━━━━━━━━━━━━━━━━━━━━━━┳━━━━━━━━━━━━━━━━━━━━━━━━┳━━━━━━━━━━━━━━━┓\n",
              "┃<span style=\"font-weight: bold\"> Layer (type)                    </span>┃<span style=\"font-weight: bold\"> Output Shape           </span>┃<span style=\"font-weight: bold\">       Param # </span>┃\n",
              "┡━━━━━━━━━━━━━━━━━━━━━━━━━━━━━━━━━╇━━━━━━━━━━━━━━━━━━━━━━━━╇━━━━━━━━━━━━━━━┩\n",
              "│ hidden_layer_1 (<span style=\"color: #0087ff; text-decoration-color: #0087ff\">Dense</span>)          │ (<span style=\"color: #00d7ff; text-decoration-color: #00d7ff\">None</span>, <span style=\"color: #00af00; text-decoration-color: #00af00\">64</span>)             │           <span style=\"color: #00af00; text-decoration-color: #00af00\">192</span> │\n",
              "├─────────────────────────────────┼────────────────────────┼───────────────┤\n",
              "│ hidden_layer_2 (<span style=\"color: #0087ff; text-decoration-color: #0087ff\">Dense</span>)          │ (<span style=\"color: #00d7ff; text-decoration-color: #00d7ff\">None</span>, <span style=\"color: #00af00; text-decoration-color: #00af00\">32</span>)             │         <span style=\"color: #00af00; text-decoration-color: #00af00\">2,080</span> │\n",
              "├─────────────────────────────────┼────────────────────────┼───────────────┤\n",
              "│ output_layer (<span style=\"color: #0087ff; text-decoration-color: #0087ff\">Dense</span>)            │ (<span style=\"color: #00d7ff; text-decoration-color: #00d7ff\">None</span>, <span style=\"color: #00af00; text-decoration-color: #00af00\">1</span>)              │            <span style=\"color: #00af00; text-decoration-color: #00af00\">33</span> │\n",
              "└─────────────────────────────────┴────────────────────────┴───────────────┘\n",
              "</pre>\n"
            ]
          },
          "metadata": {}
        },
        {
          "output_type": "display_data",
          "data": {
            "text/plain": [
              "\u001b[1m Total params: \u001b[0m\u001b[38;5;34m2,305\u001b[0m (9.00 KB)\n"
            ],
            "text/html": [
              "<pre style=\"white-space:pre;overflow-x:auto;line-height:normal;font-family:Menlo,'DejaVu Sans Mono',consolas,'Courier New',monospace\"><span style=\"font-weight: bold\"> Total params: </span><span style=\"color: #00af00; text-decoration-color: #00af00\">2,305</span> (9.00 KB)\n",
              "</pre>\n"
            ]
          },
          "metadata": {}
        },
        {
          "output_type": "display_data",
          "data": {
            "text/plain": [
              "\u001b[1m Trainable params: \u001b[0m\u001b[38;5;34m2,305\u001b[0m (9.00 KB)\n"
            ],
            "text/html": [
              "<pre style=\"white-space:pre;overflow-x:auto;line-height:normal;font-family:Menlo,'DejaVu Sans Mono',consolas,'Courier New',monospace\"><span style=\"font-weight: bold\"> Trainable params: </span><span style=\"color: #00af00; text-decoration-color: #00af00\">2,305</span> (9.00 KB)\n",
              "</pre>\n"
            ]
          },
          "metadata": {}
        },
        {
          "output_type": "display_data",
          "data": {
            "text/plain": [
              "\u001b[1m Non-trainable params: \u001b[0m\u001b[38;5;34m0\u001b[0m (0.00 B)\n"
            ],
            "text/html": [
              "<pre style=\"white-space:pre;overflow-x:auto;line-height:normal;font-family:Menlo,'DejaVu Sans Mono',consolas,'Courier New',monospace\"><span style=\"font-weight: bold\"> Non-trainable params: </span><span style=\"color: #00af00; text-decoration-color: #00af00\">0</span> (0.00 B)\n",
              "</pre>\n"
            ]
          },
          "metadata": {}
        },
        {
          "output_type": "stream",
          "name": "stdout",
          "text": [
            "\n",
            "--- CNN Model Architecture ---\n"
          ]
        },
        {
          "output_type": "display_data",
          "data": {
            "text/plain": [
              "\u001b[1mModel: \"Convolutional_Neural_Network\"\u001b[0m\n"
            ],
            "text/html": [
              "<pre style=\"white-space:pre;overflow-x:auto;line-height:normal;font-family:Menlo,'DejaVu Sans Mono',consolas,'Courier New',monospace\"><span style=\"font-weight: bold\">Model: \"Convolutional_Neural_Network\"</span>\n",
              "</pre>\n"
            ]
          },
          "metadata": {}
        },
        {
          "output_type": "display_data",
          "data": {
            "text/plain": [
              "┏━━━━━━━━━━━━━━━━━━━━━━━━━━━━━━━━━┳━━━━━━━━━━━━━━━━━━━━━━━━┳━━━━━━━━━━━━━━━┓\n",
              "┃\u001b[1m \u001b[0m\u001b[1mLayer (type)                   \u001b[0m\u001b[1m \u001b[0m┃\u001b[1m \u001b[0m\u001b[1mOutput Shape          \u001b[0m\u001b[1m \u001b[0m┃\u001b[1m \u001b[0m\u001b[1m      Param #\u001b[0m\u001b[1m \u001b[0m┃\n",
              "┡━━━━━━━━━━━━━━━━━━━━━━━━━━━━━━━━━╇━━━━━━━━━━━━━━━━━━━━━━━━╇━━━━━━━━━━━━━━━┩\n",
              "│ convolutional_layer_1 (\u001b[38;5;33mConv1D\u001b[0m)  │ (\u001b[38;5;45mNone\u001b[0m, \u001b[38;5;34m1\u001b[0m, \u001b[38;5;34m64\u001b[0m)          │           \u001b[38;5;34m192\u001b[0m │\n",
              "├─────────────────────────────────┼────────────────────────┼───────────────┤\n",
              "│ flatten_3 (\u001b[38;5;33mFlatten\u001b[0m)             │ (\u001b[38;5;45mNone\u001b[0m, \u001b[38;5;34m64\u001b[0m)             │             \u001b[38;5;34m0\u001b[0m │\n",
              "├─────────────────────────────────┼────────────────────────┼───────────────┤\n",
              "│ hidden_dense_layer_1 (\u001b[38;5;33mDense\u001b[0m)    │ (\u001b[38;5;45mNone\u001b[0m, \u001b[38;5;34m32\u001b[0m)             │         \u001b[38;5;34m2,080\u001b[0m │\n",
              "├─────────────────────────────────┼────────────────────────┼───────────────┤\n",
              "│ output_layer (\u001b[38;5;33mDense\u001b[0m)            │ (\u001b[38;5;45mNone\u001b[0m, \u001b[38;5;34m1\u001b[0m)              │            \u001b[38;5;34m33\u001b[0m │\n",
              "└─────────────────────────────────┴────────────────────────┴───────────────┘\n"
            ],
            "text/html": [
              "<pre style=\"white-space:pre;overflow-x:auto;line-height:normal;font-family:Menlo,'DejaVu Sans Mono',consolas,'Courier New',monospace\">┏━━━━━━━━━━━━━━━━━━━━━━━━━━━━━━━━━┳━━━━━━━━━━━━━━━━━━━━━━━━┳━━━━━━━━━━━━━━━┓\n",
              "┃<span style=\"font-weight: bold\"> Layer (type)                    </span>┃<span style=\"font-weight: bold\"> Output Shape           </span>┃<span style=\"font-weight: bold\">       Param # </span>┃\n",
              "┡━━━━━━━━━━━━━━━━━━━━━━━━━━━━━━━━━╇━━━━━━━━━━━━━━━━━━━━━━━━╇━━━━━━━━━━━━━━━┩\n",
              "│ convolutional_layer_1 (<span style=\"color: #0087ff; text-decoration-color: #0087ff\">Conv1D</span>)  │ (<span style=\"color: #00d7ff; text-decoration-color: #00d7ff\">None</span>, <span style=\"color: #00af00; text-decoration-color: #00af00\">1</span>, <span style=\"color: #00af00; text-decoration-color: #00af00\">64</span>)          │           <span style=\"color: #00af00; text-decoration-color: #00af00\">192</span> │\n",
              "├─────────────────────────────────┼────────────────────────┼───────────────┤\n",
              "│ flatten_3 (<span style=\"color: #0087ff; text-decoration-color: #0087ff\">Flatten</span>)             │ (<span style=\"color: #00d7ff; text-decoration-color: #00d7ff\">None</span>, <span style=\"color: #00af00; text-decoration-color: #00af00\">64</span>)             │             <span style=\"color: #00af00; text-decoration-color: #00af00\">0</span> │\n",
              "├─────────────────────────────────┼────────────────────────┼───────────────┤\n",
              "│ hidden_dense_layer_1 (<span style=\"color: #0087ff; text-decoration-color: #0087ff\">Dense</span>)    │ (<span style=\"color: #00d7ff; text-decoration-color: #00d7ff\">None</span>, <span style=\"color: #00af00; text-decoration-color: #00af00\">32</span>)             │         <span style=\"color: #00af00; text-decoration-color: #00af00\">2,080</span> │\n",
              "├─────────────────────────────────┼────────────────────────┼───────────────┤\n",
              "│ output_layer (<span style=\"color: #0087ff; text-decoration-color: #0087ff\">Dense</span>)            │ (<span style=\"color: #00d7ff; text-decoration-color: #00d7ff\">None</span>, <span style=\"color: #00af00; text-decoration-color: #00af00\">1</span>)              │            <span style=\"color: #00af00; text-decoration-color: #00af00\">33</span> │\n",
              "└─────────────────────────────────┴────────────────────────┴───────────────┘\n",
              "</pre>\n"
            ]
          },
          "metadata": {}
        },
        {
          "output_type": "display_data",
          "data": {
            "text/plain": [
              "\u001b[1m Total params: \u001b[0m\u001b[38;5;34m2,305\u001b[0m (9.00 KB)\n"
            ],
            "text/html": [
              "<pre style=\"white-space:pre;overflow-x:auto;line-height:normal;font-family:Menlo,'DejaVu Sans Mono',consolas,'Courier New',monospace\"><span style=\"font-weight: bold\"> Total params: </span><span style=\"color: #00af00; text-decoration-color: #00af00\">2,305</span> (9.00 KB)\n",
              "</pre>\n"
            ]
          },
          "metadata": {}
        },
        {
          "output_type": "display_data",
          "data": {
            "text/plain": [
              "\u001b[1m Trainable params: \u001b[0m\u001b[38;5;34m2,305\u001b[0m (9.00 KB)\n"
            ],
            "text/html": [
              "<pre style=\"white-space:pre;overflow-x:auto;line-height:normal;font-family:Menlo,'DejaVu Sans Mono',consolas,'Courier New',monospace\"><span style=\"font-weight: bold\"> Trainable params: </span><span style=\"color: #00af00; text-decoration-color: #00af00\">2,305</span> (9.00 KB)\n",
              "</pre>\n"
            ]
          },
          "metadata": {}
        },
        {
          "output_type": "display_data",
          "data": {
            "text/plain": [
              "\u001b[1m Non-trainable params: \u001b[0m\u001b[38;5;34m0\u001b[0m (0.00 B)\n"
            ],
            "text/html": [
              "<pre style=\"white-space:pre;overflow-x:auto;line-height:normal;font-family:Menlo,'DejaVu Sans Mono',consolas,'Courier New',monospace\"><span style=\"font-weight: bold\"> Non-trainable params: </span><span style=\"color: #00af00; text-decoration-color: #00af00\">0</span> (0.00 B)\n",
              "</pre>\n"
            ]
          },
          "metadata": {}
        },
        {
          "output_type": "stream",
          "name": "stdout",
          "text": [
            "\n",
            "--- Model Performance Comparison ---\n",
            "\u001b[1m1/1\u001b[0m \u001b[32m━━━━━━━━━━━━━━━━━━━━\u001b[0m\u001b[37m\u001b[0m \u001b[1m0s\u001b[0m 82ms/step\n",
            "MLP Evaluation -> MSE: 11.56, R-squared: 1.00\n",
            "\u001b[1m1/1\u001b[0m \u001b[32m━━━━━━━━━━━━━━━━━━━━\u001b[0m\u001b[37m\u001b[0m \u001b[1m0s\u001b[0m 86ms/step\n",
            "CNN Evaluation -> MSE: 11.95, R-squared: 1.00\n",
            "\n",
            "Final model selected for relevance and efficiency: MLP\n",
            "\u001b[1m1/1\u001b[0m \u001b[32m━━━━━━━━━━━━━━━━━━━━\u001b[0m\u001b[37m\u001b[0m \u001b[1m0s\u001b[0m 72ms/step\n",
            "Predicted future position using MLP: 89.37\n"
          ]
        }
      ],
      "source": [
        "#Reviewer 1\n",
        "import numpy as np\n",
        "import tensorflow as tf\n",
        "from sklearn.model_selection import train_test_split\n",
        "from sklearn.metrics import mean_squared_error, r2_score\n",
        "import pandas as pd\n",
        "\n",
        "# --- 1. Variable Identification ---\n",
        "# This section explicitly defines the variables as requested by the reviewer.\n",
        "\n",
        "# Sample Data: Using a structured dataset for reproducibility.\n",
        "# For a real-world application, this data would come from sensors.\n",
        "data = {\n",
        "    'speed': [10, 20, 30, 40, 50, 60, 70, 80, 90, 100],\n",
        "    'angle': [5, 10, 15, 20, 25, 30, 35, 40, 45, 50],\n",
        "    'future_position': [12, 25, 38, 51, 66, 80, 95, 111, 128, 145]\n",
        "}\n",
        "df = pd.DataFrame(data)\n",
        "\n",
        "# INDEPENDENT VARIABLES (Model Inputs):\n",
        "# These are the features used by the model to make a prediction.\n",
        "# - 'speed': The measured velocity of the object.\n",
        "# - 'angle': The measured trajectory angle of the object.\n",
        "X = df[['speed', 'angle']].values\n",
        "\n",
        "# DEPENDENT VARIABLE (Model Output):\n",
        "# This is the value the model is trained to predict.\n",
        "# - 'future_position': The predicted location or distance after a set time.\n",
        "y = df['future_position'].values\n",
        "\n",
        "# Data splitting for training and validation\n",
        "X_train, X_test, y_train, y_test = train_test_split(X, y, test_size=0.2, random_state=42)\n",
        "\n",
        "# Reshape input data for the CNN model, which requires a 3D tensor input.\n",
        "X_train_cnn = X_train.reshape((X_train.shape[0], X_train.shape[1], 1))\n",
        "X_test_cnn = X_test.reshape((X_test.shape[0], X_test.shape[1], 1))\n",
        "\n",
        "\n",
        "# --- 2. In-Depth Model Architecture Analysis ---\n",
        "# This section details the architectures of the MLP and CNN models,\n",
        "# including the number of hidden layers and units per layer, as required.\n",
        "\n",
        "def build_mlp_model():\n",
        "    \"\"\"\n",
        "    Builds a Multilayer Perceptron (MLP) model.\n",
        "    This architecture is chosen for its effectiveness in handling tabular data.\n",
        "\n",
        "    - Number of Hidden Layers: 2\n",
        "      - Rationale: Two hidden layers provide sufficient complexity to model\n",
        "        non-linear relationships between speed, angle, and future position\n",
        "        without being overly prone to overfitting with this dataset size.\n",
        "    - Units for each Hidden Layer:\n",
        "      - Layer 1: 64 units.\n",
        "      - Layer 2: 32 units.\n",
        "      - Rationale: A tapering architecture (64 -> 32) helps the network\n",
        "        learn broader patterns first, then refine them into more specific features.\n",
        "    \"\"\"\n",
        "    model = tf.keras.Sequential(name=\"Multilayer_Perceptron\")\n",
        "    model.add(tf.keras.layers.InputLayer(input_shape=(2,)))\n",
        "    model.add(tf.keras.layers.Dense(64, activation='relu', name='hidden_layer_1'))\n",
        "    model.add(tf.keras.layers.Dense(32, activation='relu', name='hidden_layer_2'))\n",
        "    model.add(tf.keras.layers.Dense(1, name='output_layer'))\n",
        "\n",
        "    model.compile(optimizer='adam', loss='mean_squared_error')\n",
        "    return model\n",
        "\n",
        "def build_cnn_model():\n",
        "    \"\"\"\n",
        "    Builds a 1D Convolutional Neural Network (CNN) model.\n",
        "    While typically used for sequence or image data, a 1D CNN can be effective\n",
        "    at learning features from sensor inputs treated as a short sequence.\n",
        "\n",
        "    - Number of Hidden Layers: 1 Convolutional Layer and 1 Fully-Connected (Dense) Layer.\n",
        "    - Units for each Layer:\n",
        "      - Convolutional Layer 1: 64 filters with a kernel size of 2.\n",
        "        - Rationale: The filters act as feature detectors, learning spatial\n",
        "          relationships between the speed and angle inputs.\n",
        "      - Dense Layer 1: 32 units.\n",
        "        - Rationale: This layer processes the features extracted by the\n",
        "          convolutional layer to make the final prediction.\n",
        "    \"\"\"\n",
        "    model = tf.keras.Sequential(name=\"Convolutional_Neural_Network\")\n",
        "    model.add(tf.keras.layers.InputLayer(input_shape=(2, 1)))\n",
        "    model.add(tf.keras.layers.Conv1D(filters=64, kernel_size=2, activation='relu', name='convolutional_layer_1'))\n",
        "    model.add(tf.keras.layers.Flatten())\n",
        "    model.add(tf.keras.layers.Dense(32, activation='relu', name='hidden_dense_layer_1'))\n",
        "    model.add(tf.keras.layers.Dense(1, name='output_layer'))\n",
        "\n",
        "    model.compile(optimizer='adam', loss='mean_squared_error')\n",
        "    return model\n",
        "\n",
        "# --- 3. Model Training, Evaluation, and Selection ---\n",
        "print(\"--- Building and Training Models for Evaluation ---\")\n",
        "\n",
        "# MLP Model\n",
        "mlp_model = build_mlp_model()\n",
        "print(\"\\n--- MLP Model Architecture ---\")\n",
        "mlp_model.summary()\n",
        "mlp_model.fit(X_train, y_train, epochs=200, verbose=0)\n",
        "\n",
        "# CNN Model\n",
        "cnn_model = build_cnn_model()\n",
        "print(\"\\n--- CNN Model Architecture ---\")\n",
        "cnn_model.summary()\n",
        "cnn_model.fit(X_train_cnn, y_train, epochs=200, verbose=0)\n",
        "\n",
        "# Evaluation\n",
        "print(\"\\n--- Model Performance Comparison ---\")\n",
        "y_pred_mlp = mlp_model.predict(X_test)\n",
        "print(f\"MLP Evaluation -> MSE: {mean_squared_error(y_test, y_pred_mlp):.2f}, R-squared: {r2_score(y_test, y_pred_mlp):.2f}\")\n",
        "\n",
        "y_pred_cnn = cnn_model.predict(X_test_cnn)\n",
        "print(f\"CNN Evaluation -> MSE: {mean_squared_error(y_test, y_pred_cnn):.2f}, R-squared: {r2_score(y_test, y_pred_cnn):.2f}\")\n",
        "\n",
        "# --- 4. Prediction with the More Efficient Model ---\n",
        "# The model with the higher R-squared value is selected.\n",
        "final_model = mlp_model if r2_score(y_test, y_pred_mlp) > r2_score(y_test, y_pred_cnn) else cnn_model\n",
        "model_name = \"MLP\" if isinstance(final_model, tf.keras.Model) and final_model.name == \"Multilayer_Perceptron\" else \"CNN\"\n",
        "\n",
        "print(f\"\\nFinal model selected for relevance and efficiency: {model_name}\")\n",
        "new_data = np.array([[65, 32]]) # Example: speed=65, angle=32\n",
        "if model_name == \"CNN\":\n",
        "    new_data = new_data.reshape((1, 2, 1))\n",
        "\n",
        "prediction = final_model.predict(new_data)\n",
        "print(f\"Predicted future position using {model_name}: {prediction[0][0]:.2f}\")\n"
      ]
    },
    {
      "cell_type": "code",
      "source": [
        "#Reviewer 2\n",
        "import numpy as np\n",
        "import tensorflow as tf\n",
        "from sklearn.model_selection import train_test_split\n",
        "from sklearn.metrics import mean_squared_error, r2_score\n",
        "import pandas as pd\n",
        "import time\n",
        "\n",
        "# --- System Specifications for Reproducibility (As per Reviewer Feedback) ---\n",
        "# This script was developed and tested using the following environment, providing\n",
        "# the operational detail requested to enhance reproducibility.\n",
        "#\n",
        "# Hardware Target:\n",
        "#   - Edge Device: Raspberry Pi 4B (4GB) / NVIDIA Jetson Nano (4GB)\n",
        "#\n",
        "# Software Versions:\n",
        "#   - Python: 3.9+\n",
        "#   - TensorFlow: 2.10+\n",
        "#   - Pandas: 1.5+\n",
        "#   - NumPy: 1.23+\n",
        "#\n",
        "# Note: For full reproducibility, a supplementary repository with model weights,\n",
        "# requirements.txt, and hardware setup instructions is recommended.\n",
        "# --------------------------------------------------------------------------\n",
        "\n",
        "\n",
        "# --- Layer 1: Data Sensing and Preparation ---\n",
        "# This module simulates the data acquisition step, maintaining the praised\n",
        "# layered architecture approach for clarity.\n",
        "\n",
        "def get_sensor_data():\n",
        "    \"\"\"Simulates acquiring and preparing data from the sensing layer.\"\"\"\n",
        "    print(\"Step 1: Acquiring data from the sensor fusion layer...\")\n",
        "    data = {\n",
        "        'speed': np.linspace(10, 100, 50),\n",
        "        'angle': np.linspace(5, 50, 50),\n",
        "        'future_position': np.linspace(10, 100, 50) * 1.5 + np.linspace(5, 50, 50) * 0.5 + np.random.randn(50) * 5\n",
        "    }\n",
        "    df = pd.DataFrame(data)\n",
        "    X = df[['speed', 'angle']].values\n",
        "    y = df['future_position'].values\n",
        "    print(\"Data prepared for processing.\")\n",
        "    return train_test_split(X, y, test_size=0.2, random_state=42)\n",
        "\n",
        "# --- Layer 2: Real-Time Decision Making (Model with Performance Validation) ---\n",
        "# This module contains the TensorFlow model and now includes a rigorous\n",
        "# evaluation pipeline with accuracy metrics and latency measurement.\n",
        "\n",
        "def create_tf_model(input_shape):\n",
        "    \"\"\"Creates a streamlined TensorFlow model for real-time decision making.\"\"\"\n",
        "    model = tf.keras.Sequential([\n",
        "        tf.keras.layers.InputLayer(input_shape=input_shape),\n",
        "        tf.keras.layers.Dense(64, activation='relu'),\n",
        "        tf.keras.layers.Dense(32, activation='relu'),\n",
        "        tf.keras.layers.Dense(1)\n",
        "    ])\n",
        "    model.compile(optimizer='adam', loss='mean_squared_error')\n",
        "    return model\n",
        "\n",
        "def model_validation_pipeline(X_train, y_train, X_test, y_test):\n",
        "    \"\"\"Trains and validates the TensorFlow model, providing key performance indicators.\"\"\"\n",
        "    print(\"\\nStep 2: Building, training, and validating the decision model...\")\n",
        "\n",
        "    tf_model = create_tf_model(input_shape=(X_train.shape[1],))\n",
        "    tf_model.fit(X_train, y_train, epochs=200, verbose=0, validation_split=0.2)\n",
        "\n",
        "    # --- Model Evaluation (Numerical Performance Indicators) ---\n",
        "    print(\"\\n--- Model Performance Evaluation ---\")\n",
        "    y_pred_tf = tf_model.predict(X_test, verbose=0).flatten()\n",
        "\n",
        "    # Accuracy Metrics, addressing a key gap identified by the reviewer.\n",
        "    mse = mean_squared_error(y_test, y_pred_tf)\n",
        "    r2 = r2_score(y_test, y_pred_tf)\n",
        "    print(f\"  Accuracy -> MSE: {mse:.2f}, R-squared: {r2:.2f}\")\n",
        "\n",
        "    # --- Latency Measurement (Real-Time Feasibility) ---\n",
        "    # This provides confidence in the model's real-time feasibility.\n",
        "    print(\"\\n--- Latency Measurement (on this machine) ---\")\n",
        "    sample_input = np.array([[75, 38]])\n",
        "\n",
        "    start_time = time.perf_counter()\n",
        "    tf_model.predict(sample_input, verbose=0)\n",
        "    end_time = time.perf_counter()\n",
        "    latency_ms = (end_time - start_time) * 1000\n",
        "    print(f\"  Prediction Latency: {latency_ms:.4f} ms\")\n",
        "\n",
        "    return tf_model\n",
        "\n",
        "# --- Layer 3: Actuation and Control Logic ---\n",
        "# This module uses the validated model's output to inform the system's workflow.\n",
        "\n",
        "def execute_control_logic(model, current_speed, current_angle):\n",
        "    \"\"\"Takes model prediction and translates it into a system action.\"\"\"\n",
        "    print(\"\\nStep 3: Relaying prediction to the actuation layer...\")\n",
        "    input_data = np.array([[current_speed, current_angle]])\n",
        "    predicted_pos = model.predict(input_data, verbose=0)[0][0]\n",
        "\n",
        "    print(f\"  -> Prediction received: Future position is {predicted_pos:.2f} units.\")\n",
        "\n",
        "    # Example braking logic integrating the model's decision\n",
        "    action = \"APPLY BRAKES\" if predicted_pos < 120 else \"MAINTAIN COURSE\"\n",
        "    print(f\"  -> Control System Decision: {action}\")\n",
        "    return action\n",
        "\n",
        "# --- System Workflow Simulation ---\n",
        "print(\"\\n--- Simulating a Real-Time Autonomous Control Event ---\")\n",
        "X_train, X_test, y_train, y_test = get_sensor_data()\n",
        "final_model = model_validation_pipeline(X_train, y_train, X_test, y_test)\n",
        "execute_control_logic(final_model, 75, 38)\n",
        "\n"
      ],
      "metadata": {
        "id": "uGfUYpY3A7Dl",
        "colab": {
          "base_uri": "https://localhost:8080/",
          "height": 348
        },
        "outputId": "2e65fdac-8d05-4821-e441-2be010e7e7a3"
      },
      "execution_count": 10,
      "outputs": [
        {
          "output_type": "stream",
          "name": "stdout",
          "text": [
            "\n",
            "--- Simulating a Real-Time Autonomous Control Event ---\n",
            "Step 1: Acquiring data from the sensor fusion layer...\n",
            "Data prepared for processing.\n",
            "\n",
            "Step 2: Building, training, and validating the decision model...\n"
          ]
        },
        {
          "output_type": "stream",
          "name": "stderr",
          "text": [
            "/usr/local/lib/python3.12/dist-packages/keras/src/layers/core/input_layer.py:27: UserWarning: Argument `input_shape` is deprecated. Use `shape` instead.\n",
            "  warnings.warn(\n"
          ]
        },
        {
          "output_type": "stream",
          "name": "stdout",
          "text": [
            "\n",
            "--- Model Performance Evaluation ---\n",
            "  Accuracy -> MSE: 34.57, R-squared: 0.98\n",
            "\n",
            "--- Latency Measurement (on this machine) ---\n",
            "  Prediction Latency: 116.8041 ms\n",
            "\n",
            "Step 3: Relaying prediction to the actuation layer...\n",
            "  -> Prediction received: Future position is 131.94 units.\n",
            "  -> Control System Decision: MAINTAIN COURSE\n"
          ]
        },
        {
          "output_type": "execute_result",
          "data": {
            "text/plain": [
              "'MAINTAIN COURSE'"
            ],
            "application/vnd.google.colaboratory.intrinsic+json": {
              "type": "string"
            }
          },
          "metadata": {},
          "execution_count": 10
        }
      ]
    },
    {
      "cell_type": "code",
      "source": [
        "#Reviewer 5\n",
        "import numpy as np\n",
        "import tensorflow as tf\n",
        "from sklearn.model_selection import train_test_split\n",
        "from sklearn.ensemble import RandomForestRegressor\n",
        "from sklearn.metrics import mean_squared_error, r2_score\n",
        "import pandas as pd\n",
        "import time\n",
        "\n",
        "# --- 1. Experimental Setup ---\n",
        "# This script provides a framework for the rigorous model validation and\n",
        "# benchmarking requested by the reviewer. It includes tests for robustness,\n",
        "# comparison against a baseline model, and latency measurement to assess\n",
        "# real-time feasibility on resource-constrained devices.\n",
        "\n",
        "def load_and_prepare_data(is_adverse_scenario=False, noise_level=0.5):\n",
        "    \"\"\"\n",
        "    Loads data and simulates adverse conditions to test model robustness,\n",
        "    addressing the critique of relying on clean, simulation-only results.\n",
        "    \"\"\"\n",
        "    print(f\"\\n--- Loading Data (Scenario: {'Adverse' if is_adverse_scenario else 'Normal'}) ---\")\n",
        "    data = {\n",
        "        'speed': np.linspace(10, 100, 100),\n",
        "        'angle': np.linspace(5, 50, 100),\n",
        "    }\n",
        "    data['future_position'] = data['speed'] * 1.5 + data['angle'] * 0.5 + np.random.randn(100) * 5\n",
        "    df = pd.DataFrame(data)\n",
        "\n",
        "    if is_adverse_scenario:\n",
        "        print(f\"   -> Injecting sensor noise to simulate fog/rain (level: {noise_level})...\")\n",
        "        df[['speed', 'angle']] += np.random.normal(0, noise_level * df[['speed', 'angle']].std())\n",
        "\n",
        "    X = df[['speed', 'angle']].values\n",
        "    y = df['future_position'].values\n",
        "    return train_test_split(X, y, test_size=0.2, random_state=42)\n",
        "\n",
        "# --- 2. Model Definition and Benchmarking ---\n",
        "# To address the lack of comparison against other solutions, this section\n",
        "# defines both the proposed TensorFlow model and a classical baseline (Random Forest).\n",
        "\n",
        "def create_tf_model(input_shape):\n",
        "    \"\"\"Defines the TensorFlow model for trajectory prediction.\"\"\"\n",
        "    model = tf.keras.Sequential([\n",
        "        tf.keras.layers.InputLayer(input_shape=input_shape),\n",
        "        tf.keras.layers.Dense(64, activation='relu'),\n",
        "        tf.keras.layers.Dense(32, activation='relu'),\n",
        "        tf.keras.layers.Dense(1)\n",
        "    ])\n",
        "    model.compile(optimizer='adam', loss='mean_squared_error')\n",
        "    return model\n",
        "\n",
        "# --- 3. Rigorous Evaluation Protocol ---\n",
        "# This function trains and evaluates the models, providing the accuracy metrics,\n",
        "# latency measurements, and comparative analysis required for publication.\n",
        "\n",
        "def run_evaluation_protocol(X_train, y_train, X_test, y_test):\n",
        "    \"\"\"\n",
        "    Trains, evaluates, and benchmarks models, providing quantitative evidence\n",
        "    of performance and real-time feasibility.\n",
        "    \"\"\"\n",
        "    # Train TensorFlow Model\n",
        "    tf_model = create_tf_model(input_shape=(X_train.shape[1],))\n",
        "    tf_model.fit(X_train, y_train, epochs=200, verbose=0)\n",
        "\n",
        "    # Train Baseline Model (State-of-the-art classical alternative)\n",
        "    rf_model = RandomForestRegressor(n_estimators=100, random_state=42)\n",
        "    rf_model.fit(X_train, y_train)\n",
        "\n",
        "    # --- A. Accuracy and Benchmarking ---\n",
        "    print(\"\\n--- Accuracy Metrics & Model Benchmarking ---\")\n",
        "    y_pred_tf = tf_model.predict(X_test, verbose=0).flatten()\n",
        "    y_pred_rf = rf_model.predict(X_test)\n",
        "\n",
        "    print(f\"  Deep Learning (TF) -> MSE: {mean_squared_error(y_test, y_pred_tf):.2f}, R-squared: {r2_score(y_test, y_pred_tf):.2f}\")\n",
        "    print(f\"  Classical (RF)     -> MSE: {mean_squared_error(y_test, y_pred_rf):.2f}, R-squared: {r2_score(y_test, y_pred_rf):.2f}\")\n",
        "\n",
        "    # --- B. Latency Measurement (Computational Load) ---\n",
        "    print(\"\\n--- Real-Time Feasibility (Latency Test) ---\")\n",
        "    sample_input = np.array([[75, 38]])\n",
        "\n",
        "    start_time = time.perf_counter()\n",
        "    tf_model.predict(sample_input, verbose=0)\n",
        "    print(f\"  Deep Learning (TF) Prediction Latency: {(time.perf_counter() - start_time) * 1000:.4f} ms\")\n",
        "\n",
        "    start_time = time.perf_counter()\n",
        "    rf_model.predict(sample_input)\n",
        "    print(f\"  Classical (RF) Prediction Latency:     {(time.perf_counter() - start_time) * 1000:.4f} ms\")\n",
        "\n",
        "    return tf_model if r2_score(y_test, y_pred_tf) > r2_score(y_test, y_pred_rf) else rf_model\n",
        "\n",
        "# --- 4. Experimental Execution ---\n",
        "\n",
        "# Experiment 1: Performance in Normal Conditions\n",
        "X_train, X_test, y_train, y_test = load_and_prepare_data(is_adverse_scenario=False)\n",
        "print(\"\\n--- Starting Evaluation: NORMAL DRIVING CONDITIONS ---\")\n",
        "best_model_normal = run_evaluation_protocol(X_train, y_train, X_test, y_test)\n",
        "\n",
        "# Experiment 2: Performance in Adverse Conditions\n",
        "X_train_adv, X_test_adv, y_train_adv, y_test_adv = load_and_prepare_data(is_adverse_scenario=True)\n",
        "print(\"\\n--- Starting Evaluation: ADVERSE DRIVING CONDITIONS (SENSOR NOISE) ---\")\n",
        "best_model_adverse = run_evaluation_protocol(X_train_adv, y_train_adv, X_test_adv, y_test_adv)\n"
      ],
      "metadata": {
        "colab": {
          "base_uri": "https://localhost:8080/"
        },
        "id": "n67RNWP6BRDp",
        "outputId": "28ed36c2-66e1-4cd5-82ba-0f24ca7a8004"
      },
      "execution_count": 11,
      "outputs": [
        {
          "output_type": "stream",
          "name": "stdout",
          "text": [
            "\n",
            "--- Loading Data (Scenario: Normal) ---\n",
            "\n",
            "--- Starting Evaluation: NORMAL DRIVING CONDITIONS ---\n"
          ]
        },
        {
          "output_type": "stream",
          "name": "stderr",
          "text": [
            "/usr/local/lib/python3.12/dist-packages/keras/src/layers/core/input_layer.py:27: UserWarning: Argument `input_shape` is deprecated. Use `shape` instead.\n",
            "  warnings.warn(\n"
          ]
        },
        {
          "output_type": "stream",
          "name": "stdout",
          "text": [
            "\n",
            "--- Accuracy Metrics & Model Benchmarking ---\n",
            "  Deep Learning (TF) -> MSE: 12.90, R-squared: 0.99\n",
            "  Classical (RF)     -> MSE: 24.85, R-squared: 0.99\n",
            "\n",
            "--- Real-Time Feasibility (Latency Test) ---\n",
            "  Deep Learning (TF) Prediction Latency: 105.4537 ms\n",
            "  Classical (RF) Prediction Latency:     11.2348 ms\n",
            "\n",
            "--- Loading Data (Scenario: Adverse) ---\n",
            "   -> Injecting sensor noise to simulate fog/rain (level: 0.5)...\n",
            "\n",
            "--- Starting Evaluation: ADVERSE DRIVING CONDITIONS (SENSOR NOISE) ---\n"
          ]
        },
        {
          "output_type": "stream",
          "name": "stderr",
          "text": [
            "/usr/local/lib/python3.12/dist-packages/keras/src/layers/core/input_layer.py:27: UserWarning: Argument `input_shape` is deprecated. Use `shape` instead.\n",
            "  warnings.warn(\n"
          ]
        },
        {
          "output_type": "stream",
          "name": "stdout",
          "text": [
            "\n",
            "--- Accuracy Metrics & Model Benchmarking ---\n",
            "  Deep Learning (TF) -> MSE: 32.27, R-squared: 0.98\n",
            "  Classical (RF)     -> MSE: 60.06, R-squared: 0.97\n",
            "\n",
            "--- Real-Time Feasibility (Latency Test) ---\n",
            "  Deep Learning (TF) Prediction Latency: 109.1498 ms\n",
            "  Classical (RF) Prediction Latency:     16.7164 ms\n"
          ]
        }
      ]
    },
    {
      "cell_type": "code",
      "source": [
        "import numpy as np\n",
        "import pandas as pd\n",
        "import tensorflow as tf\n",
        "from sklearn.model_selection import train_test_split\n",
        "from sklearn.ensemble import RandomForestRegressor\n",
        "from sklearn.metrics import mean_squared_error, r2_score\n",
        "import time\n",
        "import matplotlib.pyplot as plt\n",
        "\n",
        "# --- System Specifications for Reproducibility (Reviewer #2) ---\n",
        "# Environment: Python 3.9+, TensorFlow 2.10+, Scikit-learn 1.2+, Matplotlib 3.5+\n",
        "# Hardware Target: Simulating for deployment on Raspberry Pi / Jetson Nano\n",
        "# ----------------------------------------------------------------\n",
        "\n",
        "# --- 1. Experimental Setup & Variable Identification (Reviewer #1) ---\n",
        "print(\"--- Section 1: Data Loading and Variable Definition ---\")\n",
        "\n",
        "# INDEPENDENT VARIABLES (Inputs): 'speed', 'angle'\n",
        "# DEPENDENT VARIABLE (Output): 'future_position'\n",
        "def load_and_prepare_data(is_adverse_scenario=False, noise_level=0.5):\n",
        "    \"\"\"\n",
        "    Loads data and simulates adverse conditions (rain, fog) via sensor noise.\n",
        "    (Addresses Reviewer #5's critique of simulation-only validation).\n",
        "    \"\"\"\n",
        "    scenario = 'Adverse' if is_adverse_scenario else 'Normal'\n",
        "    print(f\"Loading data for '{scenario}' scenario...\")\n",
        "    data = {\n",
        "        'speed': np.linspace(10, 100, 100),\n",
        "        'angle': np.linspace(5, 50, 100),\n",
        "    }\n",
        "    data['future_position'] = data['speed'] * 1.5 + data['angle'] * 0.5 + np.random.randn(100) * 5\n",
        "    df = pd.DataFrame(data)\n",
        "\n",
        "    if is_adverse_scenario:\n",
        "        print(f\" -> Injecting sensor noise (level: {noise_level}) to test robustness.\")\n",
        "        noise = np.random.normal(0, noise_level * df[['speed', 'angle']].std())\n",
        "        df[['speed', 'angle']] += noise\n",
        "\n",
        "    X = df[['speed', 'angle']].values\n",
        "    y = df['future_position'].values\n",
        "    return train_test_split(X, y, test_size=0.2, random_state=42)\n",
        "\n",
        "# --- 2. Model Architectures (In-Depth Analysis for Reviewer #1) ---\n",
        "print(\"\\n--- Section 2: Defining Model Architectures ---\")\n",
        "\n",
        "def create_mlp_model(input_shape):\n",
        "    \"\"\"\n",
        "    Builds a Multilayer Perceptron (MLP) model.\n",
        "    - Activation Functions: ReLU for hidden layers, Linear for output.\n",
        "    - Hidden Layers: 2\n",
        "    - Units per Layer: 64 (layer 1), 32 (layer 2). This tapering structure\n",
        "      helps learn complex patterns and then refine them.\n",
        "    \"\"\"\n",
        "    model = tf.keras.Sequential([\n",
        "        tf.keras.layers.InputLayer(input_shape=input_shape),\n",
        "        tf.keras.layers.Dense(64, activation='relu', name='hidden_layer_1'),\n",
        "        tf.keras.layers.Dense(32, activation='relu', name='hidden_layer_2'),\n",
        "        tf.keras.layers.Dense(1, name='output_layer')\n",
        "    ], name=\"MLP\")\n",
        "    model.compile(optimizer='adam', loss='mean_squared_error')\n",
        "    return model\n",
        "\n",
        "def create_cnn_model(input_shape):\n",
        "    \"\"\"\n",
        "    Builds a 1D Convolutional Neural Network (CNN) model.\n",
        "    - Activation Functions: ReLU for hidden layers, Linear for output.\n",
        "    - Hidden Layers: 1 Conv1D layer and 1 Dense layer.\n",
        "    - Units per Layer: 64 filters (Conv1D), 32 units (Dense). The CNN\n",
        "      can capture spatial relationships between the input features.\n",
        "    \"\"\"\n",
        "    model = tf.keras.Sequential([\n",
        "        tf.keras.layers.InputLayer(input_shape=input_shape),\n",
        "        tf.keras.layers.Conv1D(filters=64, kernel_size=2, activation='relu', name='convolutional_layer'),\n",
        "        tf.keras.layers.Flatten(),\n",
        "        tf.keras.layers.Dense(32, activation='relu', name='hidden_dense_layer'),\n",
        "        tf.keras.layers.Dense(1, name='output_layer')\n",
        "    ], name=\"CNN\")\n",
        "    model.compile(optimizer='adam', loss='mean_squared_error')\n",
        "    return model\n",
        "\n",
        "# --- 3. Rigorous Evaluation Protocol (Addressing Reviewers #2 & #5) ---\n",
        "print(\"\\n--- Section 3: Evaluation Protocol ---\")\n",
        "\n",
        "def plot_model_comparison(results_df, scenario_title):\n",
        "    \"\"\"Generates statistical plots for model comparison as per Reviewer #5.\"\"\"\n",
        "    fig, (ax1, ax2) = plt.subplots(1, 2, figsize=(16, 6))\n",
        "    fig.suptitle(f'Model Performance Comparison under {scenario_title} Conditions', fontsize=16)\n",
        "\n",
        "    # Plot 1: Accuracy Metrics (MSE and R-squared)\n",
        "    ax1.set_title('Accuracy Metrics')\n",
        "    bar_width = 0.35\n",
        "    index = np.arange(len(results_df['Model']))\n",
        "\n",
        "    # Bars for MSE\n",
        "    bar1 = ax1.bar(index, results_df['MSE'], bar_width, label='MSE (Lower is better)', color='b')\n",
        "    ax1.set_xlabel('Model')\n",
        "    ax1.set_ylabel('Mean Squared Error (MSE)', color='b')\n",
        "    ax1.tick_params(axis='y', labelcolor='b')\n",
        "    ax1.set_xticks(index)\n",
        "    ax1.set_xticklabels(results_df['Model'])\n",
        "\n",
        "    # Create a second y-axis for R-squared\n",
        "    ax1b = ax1.twinx()\n",
        "    bar2 = ax1b.bar(index + bar_width, results_df['R-squared'], bar_width, label='R-squared (Higher is better)', color='g')\n",
        "    ax1b.set_ylabel('R-squared', color='g')\n",
        "    ax1b.tick_params(axis='y', labelcolor='g')\n",
        "\n",
        "    # Plot 2: Latency\n",
        "    ax2.set_title('Prediction Latency')\n",
        "    ax2.bar(results_df['Model'], results_df['Latency (ms)'], color='r')\n",
        "    ax2.set_xlabel('Model')\n",
        "    ax2.set_ylabel('Latency (ms) (Lower is better)')\n",
        "\n",
        "    plt.tight_layout(rect=[0, 0.03, 1, 0.95])\n",
        "\n",
        "def run_evaluation_protocol(X_train, y_train, X_test, y_test, scenario_name):\n",
        "    \"\"\"\n",
        "    Trains, evaluates, and benchmarks all models, providing quantitative\n",
        "    evidence of performance and real-time feasibility.\n",
        "    \"\"\"\n",
        "    models = {\n",
        "        \"MLP\": create_mlp_model(input_shape=(X_train.shape[1],)),\n",
        "        \"CNN\": create_cnn_model(input_shape=(X_train.shape[1], 1)),\n",
        "        \"Random Forest\": RandomForestRegressor(n_estimators=100, random_state=42)\n",
        "    }\n",
        "\n",
        "    results = []\n",
        "\n",
        "    for name, model in models.items():\n",
        "        print(f\"\\nTraining and evaluating model: {name}...\")\n",
        "\n",
        "        # Prepare data and train\n",
        "        X_train_shaped = X_train.reshape(X_train.shape[0], X_train.shape[1], 1) if name == \"CNN\" else X_train\n",
        "        model.fit(X_train_shaped, y_train, epochs=200, verbose=0) if \"MLP\" in name or \"CNN\" in name else model.fit(X_train_shaped, y_train)\n",
        "\n",
        "        # --- A. Accuracy and Benchmarking ---\n",
        "        X_test_shaped = X_test.reshape(X_test.shape[0], X_test.shape[1], 1) if name == \"CNN\" else X_test\n",
        "        y_pred = model.predict(X_test_shaped).flatten() if \"MLP\" in name or \"CNN\" in name else model.predict(X_test_shaped)\n",
        "\n",
        "        mse = mean_squared_error(y_test, y_pred)\n",
        "        r2 = r2_score(y_test, y_pred)\n",
        "\n",
        "        # --- B. Latency Measurement (Computational Load) ---\n",
        "        sample_input = X_test_shaped[0:1] # Use one sample for timing\n",
        "        start_time = time.perf_counter()\n",
        "        model.predict(sample_input, verbose=0) if \"MLP\" in name or \"CNN\" in name else model.predict(sample_input)\n",
        "        latency_ms = (time.perf_counter() - start_time) * 1000\n",
        "\n",
        "        results.append({\"Model\": name, \"MSE\": mse, \"R-squared\": r2, \"Latency (ms)\": latency_ms, \"instance\": model})\n",
        "\n",
        "    # --- C. Comparative Analysis & Model Selection Justification (Reviewer #1) ---\n",
        "    results_df = pd.DataFrame(results).drop(columns=['instance'])\n",
        "    print(\"\\n--- Comparative Analysis of Models ---\")\n",
        "    print(results_df.to_string(index=False))\n",
        "\n",
        "    # --- D. Generate Statistical Plots (Reviewer #5) ---\n",
        "    plot_model_comparison(results_df, scenario_name)\n",
        "\n",
        "    best_model_result = sorted(results, key=lambda x: x['R-squared'], reverse=True)[0]\n",
        "    print(f\"\\nJustification: '{best_model_result['Model']}' was selected as the final model due to the highest R-squared score ({best_model_result['R-squared']:.2f}), indicating the best fit to the data.\")\n",
        "    return best_model_result['instance']\n",
        "\n",
        "# --- 4. Experimental Execution ---\n",
        "print(\"\\n--- Section 4: Executing Experiments ---\")\n",
        "\n",
        "# Experiment 1: Performance in Normal Conditions\n",
        "X_train, X_test, y_train, y_test = load_and_prepare_data(is_adverse_scenario=False)\n",
        "best_model_normal = run_evaluation_protocol(X_train, y_train, X_test, y_test, scenario_name=\"Normal\")\n",
        "\n",
        "# Experiment 2: Performance in Adverse Conditions\n",
        "X_train_adv, X_test_adv, y_train_adv, y_test_adv = load_and_prepare_data(is_adverse_scenario=True)\n",
        "best_model_adverse = run_evaluation_protocol(X_train_adv, y_train_adv, X_test_adv, y_test_adv, scenario_name=\"Adverse\")\n",
        "\n",
        "# Display all generated plots at the end of the script execution.\n",
        "plt.show()\n",
        "\n"
      ],
      "metadata": {
        "colab": {
          "base_uri": "https://localhost:8080/",
          "height": 1000
        },
        "id": "7eOMTNOkEhmh",
        "outputId": "fb266547-b407-445c-ca83-0a674e569406"
      },
      "execution_count": 13,
      "outputs": [
        {
          "output_type": "stream",
          "name": "stdout",
          "text": [
            "--- Section 1: Data Loading and Variable Definition ---\n",
            "\n",
            "--- Section 2: Defining Model Architectures ---\n",
            "\n",
            "--- Section 3: Evaluation Protocol ---\n",
            "\n",
            "--- Section 4: Executing Experiments ---\n",
            "Loading data for 'Normal' scenario...\n",
            "\n",
            "Training and evaluating model: MLP...\n"
          ]
        },
        {
          "output_type": "stream",
          "name": "stderr",
          "text": [
            "/usr/local/lib/python3.12/dist-packages/keras/src/layers/core/input_layer.py:27: UserWarning: Argument `input_shape` is deprecated. Use `shape` instead.\n",
            "  warnings.warn(\n"
          ]
        },
        {
          "output_type": "stream",
          "name": "stdout",
          "text": [
            "\u001b[1m1/1\u001b[0m \u001b[32m━━━━━━━━━━━━━━━━━━━━\u001b[0m\u001b[37m\u001b[0m \u001b[1m0s\u001b[0m 65ms/step\n",
            "\n",
            "Training and evaluating model: CNN...\n",
            "\u001b[1m1/1\u001b[0m \u001b[32m━━━━━━━━━━━━━━━━━━━━\u001b[0m\u001b[37m\u001b[0m \u001b[1m0s\u001b[0m 79ms/step\n",
            "\n",
            "Training and evaluating model: Random Forest...\n",
            "\n",
            "--- Comparative Analysis of Models ---\n",
            "        Model       MSE  R-squared  Latency (ms)\n",
            "          MLP 29.810865   0.985555    104.584362\n",
            "          CNN 29.598766   0.985658    116.984362\n",
            "Random Forest 38.356174   0.981415      8.773279\n",
            "\n",
            "Justification: 'CNN' was selected as the final model due to the highest R-squared score (0.99), indicating the best fit to the data.\n",
            "Loading data for 'Adverse' scenario...\n",
            " -> Injecting sensor noise (level: 0.5) to test robustness.\n",
            "\n",
            "Training and evaluating model: MLP...\n"
          ]
        },
        {
          "output_type": "stream",
          "name": "stderr",
          "text": [
            "/usr/local/lib/python3.12/dist-packages/keras/src/layers/core/input_layer.py:27: UserWarning: Argument `input_shape` is deprecated. Use `shape` instead.\n",
            "  warnings.warn(\n"
          ]
        },
        {
          "output_type": "stream",
          "name": "stdout",
          "text": [
            "\u001b[1m1/1\u001b[0m \u001b[32m━━━━━━━━━━━━━━━━━━━━\u001b[0m\u001b[37m\u001b[0m \u001b[1m0s\u001b[0m 68ms/step\n",
            "\n",
            "Training and evaluating model: CNN...\n",
            "\u001b[1m1/1\u001b[0m \u001b[32m━━━━━━━━━━━━━━━━━━━━\u001b[0m\u001b[37m\u001b[0m \u001b[1m0s\u001b[0m 358ms/step\n",
            "\n",
            "Training and evaluating model: Random Forest...\n",
            "\n",
            "--- Comparative Analysis of Models ---\n",
            "        Model       MSE  R-squared  Latency (ms)\n",
            "          MLP 19.899760   0.989711    101.971085\n",
            "          CNN 19.471091   0.989932    200.834862\n",
            "Random Forest 32.840400   0.983019     15.645455\n",
            "\n",
            "Justification: 'CNN' was selected as the final model due to the highest R-squared score (0.99), indicating the best fit to the data.\n"
          ]
        },
        {
          "output_type": "display_data",
          "data": {
            "text/plain": [
              "<Figure size 1600x600 with 3 Axes>"
            ],
            "image/png": "[encoded data removed]"
          },
          "metadata": {}
        },
        {
          "output_type": "display_data",
          "data": {
            "text/plain": [
              "<Figure size 1600x600 with 3 Axes>"
            ],
            "image/png": "[encoded data removed]"
          },
          "metadata": {}
        }
      ]
    }
  ]
}